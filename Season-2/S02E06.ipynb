{
 "cells": [
  {
   "metadata": {},
   "cell_type": "markdown",
   "source": [
    "# Coding: Language Model based on LSTM\n",
    "\n",
    " - Dataset: WikiText-2\n",
    " - Model: LSTM/GRU\n",
    " - Optimizer: Adam\n",
    " - Learning Rate: 0.001\n",
    " - Batch Size: 64\n",
    " - Epochs: 10\n",
    " - Dropout: 0.2"
   ],
   "id": "7ebd23d240b7c5ec"
  },
  {
   "metadata": {
    "ExecuteTime": {
     "end_time": "2025-08-09T10:42:22.820319Z",
     "start_time": "2025-08-09T10:42:22.626861Z"
    }
   },
   "cell_type": "code",
   "source": [
    "# 可以先测试网络连接\n",
    "import requests\n",
    "try:\n",
    "    response = requests.get(\"https://huggingface.co\")\n",
    "    print(\"网络连接正常\")\n",
    "except:\n",
    "    print(\"网络连接可能存在问题\")"
   ],
   "id": "bc3a4b1f7e54d94d",
   "outputs": [
    {
     "name": "stdout",
     "output_type": "stream",
     "text": [
      "网络连接正常\n"
     ]
    }
   ],
   "execution_count": 4
  },
  {
   "metadata": {
    "ExecuteTime": {
     "end_time": "2025-08-09T10:46:24.415425Z",
     "start_time": "2025-08-09T10:46:16.079581Z"
    }
   },
   "cell_type": "code",
   "source": [
    "# Load WikiText-2 Dataset using Hugging Face datasets\n",
    "\n",
    "import torch\n",
    "from datasets import load_dataset\n",
    "from torch.utils.data import DataLoader\n",
    "from collections import Counter\n",
    "import re\n",
    "\n",
    "# Set device\n",
    "device = torch.device(\"cuda\" if torch.cuda.is_available() else \"cpu\")\n",
    "print(f'Using device: {device}')\n",
    "\n",
    "# Load WikiText-2 dataset from Hugging Face\n",
    "print(\"Loading WikiText-2 dataset from Hugging Face...\")\n",
    "dataset = load_dataset(\"wikitext\", \"wikitext-2-v1\",cache_dir=\"D:\\Developer\\LLM\\FuggingFace-cache-model\")\n",
    "\n",
    "# Access the splits\n",
    "train_dataset = dataset[\"train\"]\n",
    "val_dataset = dataset[\"validation\"]\n",
    "test_dataset = dataset[\"test\"]\n",
    "\n",
    "print(f\"Train dataset size: {len(train_dataset)}\")\n",
    "print(f\"Validation dataset size: {len(val_dataset)}\")\n",
    "print(f\"Test dataset size: {len(test_dataset)}\")\n",
    "\n",
    "# Show a sample\n",
    "# Find a non-empty sample\n",
    "print(f\"\\nLooking for non-empty samples...\")\n",
    "sample_text = None\n",
    "for i, example in enumerate(train_dataset):\n",
    "    if example[\"text\"].strip ():    # Find first non-empty line\n",
    "        sample_text = example[\"text\"]\n",
    "        print(f\"Found non-empty sample at index {i}\")\n",
    "        break\n",
    "print(f\"First sample: {sample_text[:200]}\")\n",
    "\n",
    "# Basic tokenization function\n",
    "def basic_tokenize(text):\n",
    "    # Convert to lowercase and split on whitespace and punctuation\n",
    "    text = text.lower()\n",
    "    tokens = re.findall(r'\\b\\w+\\b', text)\n",
    "    return tokens\n",
    "\n",
    "# Build vocabulary from training data\n",
    "print(\"\\nBuilding vocabulary...\")\n",
    "all_tokens = []\n",
    "non_empty_lines = 0\n",
    "for example in train_dataset:\n",
    "    if example['text'].strip():  # Skip empty lines\n",
    "        tokens = basic_tokenize(example['text'])\n",
    "        all_tokens.extend(tokens)\n",
    "        non_empty_lines += 1\n",
    "\n",
    "# Create vocabulary\n",
    "vocab_counter = Counter(all_tokens)\n",
    "vocab_size = len(vocab_counter)\n",
    "print(f\"Non-empty lines: {non_empty_lines}\")\n",
    "print(f\"Total tokens: {len(all_tokens)}\")\n",
    "print(f\"Vocabulary size: {vocab_size}\")\n",
    "\n",
    "# Create word to index mapping\n",
    "vocab = {'<unk>': 0, '<pad>': 1}\n",
    "for word, count in vocab_counter.most_common():\n",
    "    if word not in vocab:\n",
    "        vocab[word] = len(vocab)\n",
    "\n",
    "# Create index to word mapping\n",
    "idx_to_word = {idx: word for word, idx in vocab.items()}\n",
    "\n",
    "print(f\"Final vocabulary size (with special tokens): {len(vocab)}\")\n",
    "print(f\"Most common words: {list(vocab_counter.most_common(10))}\")\n",
    "\n",
    "# Function to convert text to indices\n",
    "def text_to_indices(text, vocab):\n",
    "    tokens = basic_tokenize(text)\n",
    "    return [vocab.get(token, vocab['<unk>']) for token in tokens]\n",
    "\n",
    "# Convert a sample to see the tokenization\n",
    "sample_indices = text_to_indices(sample_text, vocab)\n",
    "print(f\"\\nSample tokenization:\")\n",
    "print(f\"Original: {sample_text[:100]}\")\n",
    "print(f\"Tokens: {basic_tokenize(sample_text)[:20]}\")\n",
    "print(f\"Indices: {sample_indices[:20]}\")\n",
    "\n",
    "print(\"\\nDataset loaded successfully!\")"
   ],
   "id": "8f61dfe776942d85",
   "outputs": [
    {
     "name": "stderr",
     "output_type": "stream",
     "text": [
      "<>:15: SyntaxWarning: invalid escape sequence '\\D'\n",
      "<>:15: SyntaxWarning: invalid escape sequence '\\D'\n",
      "C:\\Users\\74178\\AppData\\Local\\Temp\\ipykernel_9880\\2840440284.py:15: SyntaxWarning: invalid escape sequence '\\D'\n",
      "  dataset = load_dataset(\"wikitext\", \"wikitext-2-v1\",cache_dir=\"D:\\Developer\\LLM\\FuggingFace-cache-model\")\n"
     ]
    },
    {
     "name": "stdout",
     "output_type": "stream",
     "text": [
      "Using device: cpu\n",
      "Loading WikiText-2 dataset from Hugging Face...\n",
      "Train dataset size: 36718\n",
      "Validation dataset size: 3760\n",
      "Test dataset size: 4358\n",
      "\n",
      "Looking for non-empty samples...\n",
      "Found non-empty sample at index 1\n",
      "First sample:  = Valkyria Chronicles III = \n",
      "\n",
      "\n",
      "Building vocabulary...\n",
      "Non-empty lines: 23767\n",
      "Total tokens: 1750345\n",
      "Vocabulary size: 28710\n",
      "Final vocabulary size (with special tokens): 28712\n",
      "Most common words: [('the', 130768), ('of', 57030), ('unk', 54625), ('and', 50735), ('in', 45015), ('to', 39521), ('a', 36523), ('was', 21008), ('on', 15140), ('as', 15058)]\n",
      "\n",
      "Sample tokenization:\n",
      "Original:  = Valkyria Chronicles III = \n",
      "\n",
      "Tokens: ['valkyria', 'chronicles', 'iii']\n",
      "Indices: [3767, 3830, 860]\n",
      "\n",
      "Dataset loaded successfully!\n"
     ]
    }
   ],
   "execution_count": 6
  },
  {
   "metadata": {
    "ExecuteTime": {
     "end_time": "2025-08-09T12:41:18.339916Z",
     "start_time": "2025-08-09T12:41:12.457054Z"
    }
   },
   "cell_type": "code",
   "source": [
    "# Data Preprocess & Init DataLoader\n",
    "\n",
    "import torch\n",
    "from torch.utils.data import Dataset, DataLoader\n",
    "import torch.nn.functional as F\n",
    "\n",
    "class WikiTextDataset(Dataset):\n",
    "    def __init__(self, hf_dataset, vocab, sequence_length=50):\n",
    "        \"\"\"\n",
    "        Custom Dataset for WikiText-2\n",
    "\n",
    "        Args:\n",
    "            hf_dataset: Hugging Face dataset split\n",
    "            vocab: vocabulary dictionary\n",
    "            sequence_length: length of input sequences\n",
    "        \"\"\"\n",
    "        self.vocab = vocab\n",
    "        self.sequence_length = sequence_length\n",
    "\n",
    "        # Process all text and create sequences\n",
    "        self.sequences = []\n",
    "        self.targets = []\n",
    "\n",
    "        print(f\"Processing dataset with sequence length: {sequence_length}\")\n",
    "\n",
    "        # Concatenate all non-empty text and tokenize\n",
    "        all_indices = []\n",
    "        for example in hf_dataset:\n",
    "            if example['text'].strip():  # Skip empty lines\n",
    "                indices = text_to_indices(example['text'], vocab)\n",
    "                all_indices.extend(indices)\n",
    "\n",
    "        print(f\"Total tokens in dataset: {len(all_indices)}\")\n",
    "\n",
    "        # Create sequences of specified length\n",
    "        for i in range(len(all_indices) - sequence_length):\n",
    "            # Input sequence\n",
    "            seq = all_indices[i:i + sequence_length]\n",
    "            # Target is the next token\n",
    "            target = all_indices[i + sequence_length]\n",
    "\n",
    "            self.sequences.append(seq)\n",
    "            self.targets.append(target)\n",
    "\n",
    "        print(f\"Created {len(self.sequences)} sequences\")\n",
    "\n",
    "    def __len__(self):\n",
    "        return len(self.sequences)\n",
    "\n",
    "    def __getitem__(self, idx):\n",
    "        return (\n",
    "            torch.tensor(self.sequences[idx], dtype=torch.long),\n",
    "            torch.tensor(self.targets[idx], dtype=torch.long)\n",
    "        )\n",
    "\n",
    "# Create datasets\n",
    "sequence_length = 50\n",
    "batch_size = 64\n",
    "\n",
    "print(\"Creating training dataset...\")\n",
    "train_wiki_dataset = WikiTextDataset(train_dataset, vocab, sequence_length)\n",
    "\n",
    "print(\"\\nCreating validation dataset...\")\n",
    "val_wiki_dataset = WikiTextDataset(val_dataset, vocab, sequence_length)\n",
    "\n",
    "print(\"\\nCreating test dataset...\")\n",
    "test_wiki_dataset = WikiTextDataset(test_dataset, vocab, sequence_length)\n",
    "\n",
    "# Create DataLoaders\n",
    "train_loader = DataLoader(\n",
    "    train_wiki_dataset,\n",
    "    batch_size=batch_size,\n",
    "    shuffle=True,\n",
    "    num_workers=0  # Set to 0 for compatibility\n",
    ")\n",
    "\n",
    "val_loader = DataLoader(\n",
    "    val_wiki_dataset,\n",
    "    batch_size=batch_size,\n",
    "    shuffle=False,\n",
    "    num_workers=0\n",
    ")\n",
    "\n",
    "test_loader = DataLoader(\n",
    "    test_wiki_dataset,\n",
    "    batch_size=batch_size,\n",
    "    shuffle=False,\n",
    "    num_workers=0\n",
    ")\n",
    "\n",
    "print(f\"\\nDataLoader Summary:\")\n",
    "print(f\"Training batches: {len(train_loader)}\")\n",
    "print(f\"Validation batches: {len(val_loader)}\")\n",
    "print(f\"Test batches: {len(test_loader)}\")\n",
    "print(f\"Batch size: {batch_size}\")\n",
    "print(f\"Sequence length: {sequence_length}\")\n",
    "\n",
    "# Test the DataLoader\n",
    "for batch_idx, (sequences, targets) in enumerate(train_loader):\n",
    "    print(f\"Batch {batch_idx + 1}:\")\n",
    "    print(f\"  Sequences shape: {sequences.shape}\")\n",
    "    print(f\"  Targets shape: {targets.shape}\")\n",
    "    print(f\"  Sample sequence: {sequences[0][:10].tolist()}\")\n",
    "    print(f\"  Sample target: {targets[0].item()}\")\n",
    "\n",
    "    # Convert back to words for verification\n",
    "    sample_words = [idx_to_word[idx.item()] for idx in sequences[0]]\n",
    "    target_word = idx_to_word[targets[0].item()]\n",
    "    print(f\"  Sample words: {sample_words}\")\n",
    "    print(f\"  Target word: {target_word}\")\n",
    "    break  # Only show first batch\n",
    "\n",
    "print(\"\\nDataLoader created successfully!\")"
   ],
   "id": "6bf9e64e23af4fd",
   "outputs": [
    {
     "name": "stdout",
     "output_type": "stream",
     "text": [
      "Creating training dataset...\n",
      "Processing dataset with sequence length: 50\n",
      "Total tokens in dataset: 1750345\n",
      "Created 1750295 sequences\n",
      "\n",
      "Creating validation dataset...\n",
      "Processing dataset with sequence length: 50\n",
      "Total tokens in dataset: 183606\n",
      "Created 183556 sequences\n",
      "\n",
      "Creating test dataset...\n",
      "Processing dataset with sequence length: 50\n",
      "Total tokens in dataset: 206381\n",
      "Created 206331 sequences\n",
      "\n",
      "DataLoader Summary:\n",
      "Training batches: 27349\n",
      "Validation batches: 2869\n",
      "Test batches: 3224\n",
      "Batch size: 64\n",
      "Sequence length: 50\n",
      "Batch 1:\n",
      "  Sequences shape: torch.Size([64, 50])\n",
      "  Targets shape: torch.Size([64])\n",
      "  Sample sequence: [1635, 479, 3249, 40, 5913, 2468, 548, 91, 38, 2]\n",
      "  Sample target: 3\n",
      "  Sample words: ['organized', 'human', 'criminal', 'or', 'rebel', 'opposition', 'ten', 'years', 'after', 'the', 'official', 'end', 'of', 'the', 'zombie', 'war', 'millions', 'of', 'zombies', 'are', 'still', 'active', 'mainly', 'on', 'the', 'ocean', 'floor', 'or', 'on', 'snow', 'line', 'islands', 'a', 'democratic', 'cuba', 'has', 'become', 'the', 'world', 's', 'most', 'thriving', 'economy', 'following', 'a', 'civil', 'war', 'that', 'saw', 'use']\n",
      "  Target word: of\n",
      "\n",
      "DataLoader created successfully!\n"
     ]
    }
   ],
   "execution_count": 7
  },
  {
   "metadata": {
    "ExecuteTime": {
     "end_time": "2025-08-09T13:46:06.837239Z",
     "start_time": "2025-08-09T13:46:02.921418Z"
    }
   },
   "cell_type": "code",
   "source": [
    "# GRU Language Model Implementation\n",
    "\n",
    "import torch\n",
    "import torch.nn as nn\n",
    "import torch.optim as optim\n",
    "import torch.nn.functional as F\n",
    "import math\n",
    "\n",
    "class GRULanguageModel(nn.Module):\n",
    "    def __init__(self, vocab_size, embedding_dim=256, hidden_dim=512, num_layers=2, dropout=0.2):\n",
    "        \"\"\"\n",
    "        GRU-based Language Model for next word prediction\n",
    "\n",
    "        Args:\n",
    "            vocab_size: Size of vocabulary\n",
    "            embedding_dim: Dimension of word embeddings\n",
    "            hidden_dim: Hidden dimension of GRU\n",
    "            num_layers: Number of GRU layers\n",
    "            dropout: Dropout probability\n",
    "        \"\"\"\n",
    "        super(GRULanguageModel, self).__init__()\n",
    "\n",
    "        self.vocab_size = vocab_size\n",
    "        self.embedding_dim = embedding_dim\n",
    "        self.hidden_dim = hidden_dim\n",
    "        self.num_layers = num_layers\n",
    "        self.dropout = dropout\n",
    "\n",
    "        # Word embedding layer\n",
    "        \"\"\"\n",
    "        词嵌入层（Embedding Layer）在自然语言处理中非常重要，主要原因如下：\n",
    "        1. 将离散符号转换为连续向量\n",
    "            问题: 单词在计算机中以离散的整数索引形式存在（如 \"the\"=1, \"cat\"=2），这些数字本身没有语义信息\n",
    "            解决方案: 词嵌入层将这些离散索引映射到连续的向量空间中，每个词对应一个密集向量\n",
    "        2. 捕获语义信息\n",
    "            语义相似的词在向量空间中距离较近\n",
    "            可以通过向量运算发现词之间的关系（如 \"king\" - \"man\" + \"woman\" ≈ \"queen\"）\n",
    "            相比 one-hot 编码，嵌入向量能表达更丰富的语义信息\n",
    "        3. 降低维度和提高效率\n",
    "            One-hot 编码问题: 如果词汇表有 28,712 个词，one-hot 向量需要同样多的维度，且非常稀疏\n",
    "            嵌入向量优势: 通常使用 128-512 维的密集向量，大大降低计算复杂度\n",
    "        4. 为神经网络提供可学习的输入表示\n",
    "        \"\"\"\n",
    "        self.embedding = nn.Embedding(vocab_size, embedding_dim)\n",
    "\n",
    "        # GRU layer(s)\n",
    "        \"\"\"\n",
    "        GRU 的序列处理机制\n",
    "        1. 逐时间步处理，而非逐词处理\n",
    "            虽然输入是词嵌入向量，但GRU实际上是按时间步(time step)处理，每个时间步处理一个词嵌入：\n",
    "                # 输入序列形状: [batch_size, seq_len, embedding_dim]\n",
    "                # 例如: [64, 50, 128] 表示批次大小64，序列长度50，嵌入维度128\n",
    "\n",
    "                # GRU在内部这样处理:\n",
    "                # 时间步0: 处理第0个词的嵌入向量 [64, 128]\n",
    "                # 时间步1: 处理第1个词的嵌入向量 [64, 128] + 前一时间步的隐藏状态\n",
    "                # ...\n",
    "                # 时间步49: 处理第49个词的嵌入向量 [64, 128] + 前一时间步的隐藏状态\n",
    "        2. 每个时间步都有输出\n",
    "            GRU在每个时间步都会产生输出，而不是等到整个序列处理完才输出：\n",
    "                # GRU输出:\n",
    "                # gru_output: [batch_size, seq_len, hidden_dim] - 每个时间步都有输出\n",
    "                # hidden: [num_layers, batch_size, hidden_dim] - 最终隐藏状态\n",
    "        3. 序列到序列的处理\n",
    "            GRU是序列到序列的模型：\n",
    "                输入: 整个序列的所有词嵌入 [64, 50, 128]\n",
    "                处理: 按时间步逐个处理，每个时间步利用前一时间步的信息\n",
    "                输出: 每个时间步都产生输出 [64, 50, 256]\n",
    "        4. 在语言模型中的应用\n",
    "            在当前的语言模型中：\n",
    "                # 对于序列 \"the cat sat on the mat\"\n",
    "                # 输入序列: [\"the\", \"cat\", \"sat\", \"on\", \"the\"] (前5个词)\n",
    "                # 目标序列: [\"mat\"] (第6个词)\n",
    "\n",
    "                # GRU处理完整序列后:\n",
    "                # 输出每个位置的隐藏状态，用于预测下一个词\n",
    "                # 最后一个时间步的输出用于预测目标词\"mat\"\n",
    "        5. 关键理解点\n",
    "            并行输入: 整个序列一次性输入到GRU\n",
    "            串行处理: GRU内部按时间步顺序处理，每个时间步依赖前一个时间步的隐藏状态\n",
    "            并行输出: 所有时间步的输出同时产生\n",
    "            预测机制: 通常使用最后一个时间步的输出来预测下一个词\n",
    "            所以，GRU不是等完整序列处理完才输出，而是在处理序列的过程中，每个时间步都产生输出，这些输出可以用于不同目的（如序列标注、下一个词预测等）。\n",
    "        \"\"\"\n",
    "        self.gru = nn.GRU(\n",
    "            input_size=embedding_dim,\n",
    "            hidden_size=hidden_dim,\n",
    "            num_layers=num_layers,\n",
    "            dropout=dropout if num_layers > 1 else 0,\n",
    "            batch_first=True\n",
    "        )\n",
    "\n",
    "        # Dropout layer\n",
    "        self.dropout_layer = nn.Dropout(dropout)\n",
    "\n",
    "        # Output projection layer\n",
    "        self.output_projection = nn.Linear(hidden_dim, vocab_size)\n",
    "\n",
    "        # Initialize weights\n",
    "        self.init_weights()\n",
    "\n",
    "    def init_weights(self):\n",
    "        \"\"\"Initialize model weights\"\"\"\n",
    "        # Initialize embedding weights\n",
    "        nn.init.uniform_(self.embedding.weight, -0.1, 0.1)      # 对嵌入层权重进行均匀分布初始化\n",
    "\n",
    "         # Initialize GRU weights\n",
    "        for name, param in self.gru.named_parameters():\n",
    "            if 'weight' in name:\n",
    "                nn.init.orthogonal_(param)          # 对GRU层参数进行正交初始化（权重）\n",
    "            elif 'bias' in name:\n",
    "                nn.init.zeros_(param)                   # 对GRU层参数进行零初始化（偏置）\n",
    "\n",
    "        # Initialize output layer 对输出层使用Xavier均匀初始化（权重）和零初始化（偏置）\n",
    "        nn.init.xavier_uniform_(self.output_projection.weight)\n",
    "        nn.init.zeros_(self.output_projection.bias)\n",
    "\n",
    "    def forward(self, input_ids, hidden=None):\n",
    "        \"\"\"\n",
    "        Forward pass\n",
    "\n",
    "        Args:\n",
    "            input_ids: Input token indices [batch_size, seq_len]\n",
    "            hidden: Hidden state from previous step\n",
    "\n",
    "        Returns:\n",
    "            logits: Output logits [batch_size, seq_len, vocab_size]\n",
    "            hidden: Final hidden state\n",
    "        \"\"\"\n",
    "        batch_size, seq_len = input_ids.size()\n",
    "\n",
    "        # Word embeddings，将每个词的索引映射为对应的词向量 索引值->embedding_dim大小（维）的词向量\n",
    "        embeddings = self.embedding(input_ids)  # [batch_size, seq_len, embedding_dim]\n",
    "\n",
    "        # GRU forward pass, 2 layers by default\n",
    "        gru_output, hidden = self.gru(embeddings, hidden)  # [batch_size, seq_len, hidden_dim], [num_layers, batch_size, hidden_dim]\n",
    "\n",
    "        # Apply dropout to GRU output   对GRU输出应用dropout。\n",
    "        \"\"\"\n",
    "        1. 正则化防止过拟合\n",
    "            问题: 神经网络在训练过程中容易过拟合，即在训练数据上表现很好，但在新数据上表现较差\n",
    "            解决方案: Dropout通过随机将一部分神经元输出置为0，强制网络不依赖特定的神经元路径\n",
    "        2. Dropout的工作原理\n",
    "            # Dropout层定义 (在__init__中):\n",
    "            self.dropout_layer = nn.Dropout(dropout)  # dropout=0.2\n",
    "\n",
    "            # 在训练时:\n",
    "            # gru_output形状: [64, 50, 256] (batch_size, seq_len, hidden_dim)\n",
    "            # Dropout会随机将20%的元素置为0，其余元素乘以1/(1-0.2)=1.25\n",
    "            # 这样保持期望值不变，但增加了随机性\n",
    "        3. 在GRU输出上的应用\n",
    "            对于当前模型：\n",
    "            输入: gru_output 形状为 [64, 50, 256]\n",
    "            处理: 每个元素有20%的概率被置为0\n",
    "            输出: 同样形状的张量，部分值被置零，其余值被缩放\n",
    "        4. 训练vs推理阶段\n",
    "            # 训练阶段 (model.train()):\n",
    "            # Dropout生效，随机置零部分元素\n",
    "            gru_output = self.dropout_layer(gru_output)  # 应用dropout\n",
    "\n",
    "            # 推理阶段 (model.eval()):\n",
    "            # Dropout不生效，所有元素都保留\n",
    "            gru_output = self.dropout_layer(gru_output)  # 无效果，直接返回输入\n",
    "        5. 为什么在GRU后应用Dropout\n",
    "            防止特征共适应: 避免GRU层的输出过度依赖特定的特征组合\n",
    "            增强泛化能力: 使模型对输入的小变化更加鲁棒\n",
    "            减少过拟合: 特别是在模型参数较多时（当前模型有1170万参数）\n",
    "        6. 实际效果示例\n",
    "            # 假设GRU输出的一部分:\n",
    "            # [[0.5, -1.2, 2.1, 0.8],[1.3, 0.4, -0.9, 1.7]]\n",
    "\n",
    "            # 应用dropout (假设dropout率=0.2):\n",
    "            # [[0.0, -1.2, 2.1, 0.0],[1.3, 0.0, -0.9, 1.7]]  # 部分元素置零,其余非零元素可能被缩放\n",
    "\n",
    "            # 最终输出给下一层的值发生变化，增加了训练的随机性\n",
    "        \"\"\"\n",
    "        gru_output = self.dropout_layer(gru_output)\n",
    "\n",
    "        # Project to vocabulary size\n",
    "        logits = self.output_projection(gru_output)  # [batch_size, seq_len, vocab_size]\n",
    "\n",
    "        return logits, hidden\n",
    "\n",
    "    def init_hidden(self, batch_size):\n",
    "        \"\"\"Initialize hidden state\"\"\"\n",
    "        return torch.zeros(self.num_layers, batch_size, self.hidden_dim).to(next(self.parameters()).device)\n",
    "\n",
    "# Model hyperparameters\n",
    "vocab_size = len(vocab)\n",
    "embedding_dim = 128\n",
    "hidden_dim = 256\n",
    "num_layers = 2\n",
    "dropout = 0.2\n",
    "learning_rate = 0.0001\n",
    "\n",
    "# Initialize model\n",
    "model = GRULanguageModel(\n",
    "    vocab_size=vocab_size,\n",
    "    embedding_dim=embedding_dim,\n",
    "    hidden_dim=hidden_dim,\n",
    "    num_layers=num_layers,\n",
    "    dropout=dropout\n",
    ")\n",
    "\n",
    "# Move model to device\n",
    "model = model.to(device)\n",
    "\n",
    "# Loss function and optimizer\n",
    "criterion = nn.CrossEntropyLoss(ignore_index=vocab['<pad>'])  # Ignore padding tokens\n",
    "optimizer = optim.Adam(model.parameters(), lr=learning_rate)\n",
    "\n",
    "# Print model information\n",
    "total_params = sum(p.numel() for p in model.parameters())\n",
    "trainable_params = sum(p.numel() for p in model.parameters() if p.requires_grad)\n",
    "\n",
    "print(f\"\\nGRU Language Model Summary:\")\n",
    "print(f\"Vocabulary size: {vocab_size:,}\")\n",
    "print(f\"Embedding dimension: {embedding_dim}\")\n",
    "print(f\"Hidden dimension: {hidden_dim}\")\n",
    "print(f\"Number of layers: {num_layers}\")\n",
    "print(f\"Dropout: {dropout}\")\n",
    "print(f\"Total parameters: {total_params:,}\")\n",
    "print(f\"Trainable parameters: {trainable_params:,}\")\n",
    "print(f\"Model device: {next(model.parameters()).device}\")\n",
    "\n",
    "# Test the model with a sample batch\n",
    "print(f\"\\nTesting model with sample batch...\")\n",
    "model.eval()\n",
    "with torch.no_grad():\n",
    "    # Get a sample batch\n",
    "    sample_sequences, sample_targets = next(iter(train_loader))\n",
    "    sample_sequences = sample_sequences.to(device)\n",
    "    sample_targets = sample_targets.to(device)\n",
    "\n",
    "    # Forward pass\n",
    "    logits, hidden = model(sample_sequences)\n",
    "\n",
    "    print(f\"Input shape: {sample_sequences.shape}\")         # [batch_size, seq_len]\n",
    "    print(f\"Output logits shape: {logits.shape}\")           # [batch_size, seq_len, vocab_size]\n",
    "    print(f\"Hidden state shape: {hidden.shape}\")        # [num_layers, batch_size, hidden_dim]\n",
    "    print(f\"Target shape: {sample_targets.shape}\")      # [batch_size]\n",
    "\n",
    "     # Calculate loss for the last token prediction\n",
    "    last_token_logits = logits[:, -1, :]  # [batch_size, vocab_size]\n",
    "    loss = criterion(last_token_logits, sample_targets)\n",
    "    print(f\"Sample loss: {loss.item():.4f}\")\n",
    "\n",
    "    # Get predictions\n",
    "    predictions = torch.argmax(last_token_logits, dim=-1)\n",
    "    accuracy = (predictions == sample_targets).float().mean()\n",
    "    print(f\"Sample accuracy: {accuracy.item():.4f}\")\n",
    "\n",
    "print(f\"\\nModel initialized successfully!\")"
   ],
   "id": "efc526faf96aa826",
   "outputs": [
    {
     "name": "stdout",
     "output_type": "stream",
     "text": [
      "\n",
      "GRU Language Model Summary:\n",
      "Vocabulary size: 28,712\n",
      "Embedding dimension: 128\n",
      "Hidden dimension: 256\n",
      "Number of layers: 2\n",
      "Dropout: 0.2\n",
      "Total parameters: 11,745,320\n",
      "Trainable parameters: 11,745,320\n",
      "Model device: cpu\n",
      "\n",
      "Testing model with sample batch...\n",
      "Input shape: torch.Size([64, 50])\n",
      "Output logits shape: torch.Size([64, 50, 28712])\n",
      "Hidden state shape: torch.Size([2, 64, 256])\n",
      "Target shape: torch.Size([64])\n",
      "Sample loss: 10.2650\n",
      "Sample accuracy: 0.0000\n",
      "\n",
      "Model initialized successfully!\n"
     ]
    }
   ],
   "execution_count": 8
  },
  {
   "metadata": {
    "ExecuteTime": {
     "end_time": "2025-08-10T03:54:47.980330Z",
     "start_time": "2025-08-09T15:18:52.859034Z"
    }
   },
   "cell_type": "code",
   "source": [
    "# Train the GRU Language Model\n",
    "\n",
    "import torch\n",
    "import torch.nn as nn\n",
    "import time\n",
    "from tqdm import tqdm\n",
    "import matplotlib.pyplot as plt\n",
    "\n",
    "def train_epoch(model, train_loader, criterion, optimizer, device, epoch):\n",
    "    \"\"\"Train the model for one epoch\"\"\"\n",
    "    model.train()\n",
    "    total_loss = 0\n",
    "    total_samples = 0\n",
    "    correct_predictions = 0\n",
    "\n",
    "    # Progress bar\n",
    "    pbar = tqdm(train_loader, desc=f'Epoch {epoch+1} Training')\n",
    "\n",
    "    for batch_idx, (sequences, targets) in enumerate(pbar):\n",
    "        # Move data to device\n",
    "        sequences = sequences.to(device)\n",
    "        targets = targets.to(device)\n",
    "\n",
    "        # Zero gradients\n",
    "        optimizer.zero_grad()\n",
    "\n",
    "        # Forward pass\n",
    "        logits, hidden = model(sequences)\n",
    "\n",
    "        # Calculate loss (predict next token from last timestep)\n",
    "        last_token_logits = logits[:, -1, :]  # [batch_size, vocab_size]\n",
    "        loss = criterion(last_token_logits, targets)\n",
    "\n",
    "        # Backward pass\n",
    "        loss.backward()\n",
    "\n",
    "        # Gradient clipping to prevent exploding gradients\n",
    "        # May try 0.5 as the max_norm\n",
    "        torch.nn.utils.clip_grad_norm_(model.parameters(), max_norm=1.0)\n",
    "\n",
    "        # Update weights\n",
    "        optimizer.step()\n",
    "\n",
    "        # Statistics\n",
    "        total_loss += loss.item()\n",
    "        total_samples += targets.size(0)\n",
    "\n",
    "        # Calculate accuracy\n",
    "        predictions = torch.argmax(last_token_logits, dim=-1)\n",
    "        correct_predictions += (predictions == targets).sum().item()\n",
    "\n",
    "        # Update progress bar\n",
    "        avg_loss = total_loss / (batch_idx + 1)\n",
    "        accuracy = correct_predictions / total_samples\n",
    "        pbar.set_postfix({\n",
    "            'Loss': f'{avg_loss:.4f}',\n",
    "            'Acc': f'{accuracy:.4f}'\n",
    "        })\n",
    "\n",
    "        # Print detailed stats every 1000 batches\n",
    "        if (batch_idx + 1) % 1000 == 0:\n",
    "            print(f'\\nBatch {batch_idx+1}/{len(train_loader)}:')\n",
    "            print(f'  Loss: {avg_loss:.4f}')\n",
    "            print(f'  Accuracy: {accuracy:.4f}')\n",
    "\n",
    "    avg_loss = total_loss / len(train_loader)\n",
    "    accuracy = correct_predictions / total_samples\n",
    "\n",
    "    return avg_loss, accuracy\n",
    "\n",
    "\n",
    "def validate_epoch(model, val_loader, criterion, device, epoch):\n",
    "    \"\"\"Validate the model\"\"\"\n",
    "    model.eval()\n",
    "    total_loss = 0\n",
    "    total_samples = 0\n",
    "    correct_predictions = 0\n",
    "\n",
    "    with torch.no_grad():\n",
    "        pbar = tqdm(val_loader, desc=f'Epoch {epoch+1} Validation')\n",
    "\n",
    "        for sequences, targets in pbar:\n",
    "            # Move data to device\n",
    "            sequences = sequences.to(device)\n",
    "            targets = targets.to(device)\n",
    "\n",
    "            # Forward pass\n",
    "            logits, hidden = model(sequences)\n",
    "\n",
    "            # Calculate loss\n",
    "            last_token_logits = logits[:, -1, :]\n",
    "            loss = criterion(last_token_logits, targets)\n",
    "\n",
    "            # Statistics\n",
    "            total_loss += loss.item()\n",
    "            total_samples += targets.size(0)\n",
    "\n",
    "            # Calculate accuracy\n",
    "            predictions = torch.argmax(last_token_logits, dim=-1)\n",
    "            correct_predictions += (predictions == targets).sum().item()\n",
    "\n",
    "            # Update progress bar\n",
    "            avg_loss = total_loss / len(val_loader) if len(val_loader) > 0 else 0\n",
    "            accuracy = correct_predictions / total_samples\n",
    "            pbar.set_postfix({\n",
    "                'Val Loss': f'{avg_loss:.4f}',\n",
    "                'Val Acc': f'{accuracy:.4f}'\n",
    "            })\n",
    "\n",
    "    avg_loss = total_loss / len(val_loader)\n",
    "    accuracy = correct_predictions / total_samples\n",
    "\n",
    "    return avg_loss, accuracy\n",
    "\n",
    "\n",
    "def train_model(model, train_loader, val_loader, criterion, optimizer, device, num_epochs=10):\n",
    "    \"\"\"Complete training loop\"\"\"\n",
    "\n",
    "    # Training history\n",
    "    train_losses = []\n",
    "    train_accuracies = []\n",
    "    val_losses = []\n",
    "    val_accuracies = []\n",
    "\n",
    "    best_val_loss = float('inf')\n",
    "    best_model_state = None\n",
    "\n",
    "    print(f\"Starting training for {num_epochs} epochs...\")\n",
    "    print(f\"Training batches: {len(train_loader)}\")\n",
    "    print(f\"Validation batches: {len(val_loader)}\")\n",
    "    print(\"-\" * 60)\n",
    "\n",
    "    start_time = time.time()\n",
    "\n",
    "    for epoch in range(num_epochs):\n",
    "        epoch_start_time = time.time()\n",
    "\n",
    "        # Training\n",
    "        train_loss, train_acc = train_epoch(model, train_loader, criterion, optimizer, device, epoch)\n",
    "\n",
    "        # Validation\n",
    "        val_loss, val_acc = validate_epoch(model, val_loader, criterion, device, epoch)\n",
    "\n",
    "        # Save best model\n",
    "        if val_loss < best_val_loss:\n",
    "            best_val_loss = val_loss\n",
    "            best_model_state = model.state_dict().copy()\n",
    "            print(f\"✓ New best model saved! Val Loss: {val_loss:.4f}\")\n",
    "\n",
    "        # Record history\n",
    "        train_losses.append(train_loss)\n",
    "        train_accuracies.append(train_acc)\n",
    "        val_losses.append(val_loss)\n",
    "        val_accuracies.append(val_acc)\n",
    "\n",
    "        # Print epoch summary\n",
    "        epoch_time = time.time() - epoch_start_time\n",
    "        print(f\"\\nEpoch {epoch+1}/{num_epochs} Summary:\")\n",
    "        print(f\"  Train Loss: {train_loss:.4f} | Train Acc: {train_acc:.4f}\")\n",
    "        print(f\"  Val Loss: {val_loss:.4f} | Val Acc: {val_acc:.4f}\")\n",
    "        print(f\"  Time: {epoch_time:.2f}s\")\n",
    "        print(\"-\" * 60)\n",
    "\n",
    "    total_time = time.time() - start_time\n",
    "    print(f\"\\nTraining completed in {total_time:.2f}s\")\n",
    "    print(f\"Best validation loss: {best_val_loss:.4f}\")\n",
    "\n",
    "    # Load best model\n",
    "    if best_model_state is not None:\n",
    "        model.load_state_dict(best_model_state)\n",
    "        print(\"Loaded best model weights\")\n",
    "\n",
    "    return {\n",
    "        'train_losses': train_losses,\n",
    "        'train_accuracies': train_accuracies,\n",
    "        'val_losses': val_losses,\n",
    "        'val_accuracies': val_accuracies,\n",
    "        'best_val_loss': best_val_loss\n",
    "    }\n",
    "\n",
    "def plot_training_history(history):\n",
    "    \"\"\"Plot training curves\"\"\"\n",
    "    fig, (ax1, ax2) = plt.subplots(1, 2, figsize=(15, 5))\n",
    "\n",
    "    # Loss plot\n",
    "    ax1.plot(history['train_losses'], label='Train Loss', color='blue')\n",
    "    ax1.plot(history['val_losses'], label='Val Loss', color='red')\n",
    "    ax1.set_title('Training and Validation Loss')\n",
    "    ax1.set_xlabel('Epoch')\n",
    "    ax1.set_ylabel('Loss')\n",
    "    ax1.legend()\n",
    "    ax1.grid(True)\n",
    "\n",
    "    # Accuracy plot\n",
    "    ax2.plot(history['train_accuracies'], label='Train Accuracy', color='blue')\n",
    "    ax2.plot(history['val_accuracies'], label='Val Accuracy', color='red')\n",
    "    ax2.set_title('Training and Validation Accuracy')\n",
    "    ax2.set_xlabel('Epoch')\n",
    "    ax2.set_ylabel('Accuracy')\n",
    "    ax2.legend()\n",
    "    ax2.grid(True)\n",
    "\n",
    "    plt.tight_layout()\n",
    "    plt.show()\n",
    "\n",
    "\n",
    "# Start training\n",
    "print(\"🚀 Starting GRU Language Model Training...\")\n",
    "print(f\"Model has {sum(p.numel() for p in model.parameters()):,} parameters\")\n",
    "\n",
    "# Training parameters\n",
    "# Try 20+ epochs, with LR-Scheduler\n",
    "num_epochs = 2\n",
    "\n",
    "# Train the model\n",
    "history = train_model(\n",
    "    model=model,\n",
    "    train_loader=train_loader,\n",
    "    val_loader=val_loader,\n",
    "    criterion=criterion,\n",
    "    optimizer=optimizer,\n",
    "    device=device,\n",
    "    num_epochs=num_epochs\n",
    ")\n",
    "\n",
    "# Plot results\n",
    "plot_training_history(history)\n",
    "\n",
    "# Save the trained model\n",
    "torch.save({\n",
    "    'model_state_dict': model.state_dict(),\n",
    "    'optimizer_state_dict': optimizer.state_dict(),\n",
    "    'history': history,\n",
    "    'vocab': vocab,\n",
    "    'model_config': {\n",
    "        'vocab_size': vocab_size,\n",
    "        'embedding_dim': embedding_dim,\n",
    "        'hidden_dim': hidden_dim,\n",
    "        'num_layers': num_layers,\n",
    "        'dropout': dropout\n",
    "    }\n",
    "}, 'gru_language_model.pth')\n",
    "\n",
    "print(\"\\n✅ Training completed!\")\n",
    "print(\"📁 Model saved as 'gru_language_model.pth'\")\n",
    "print(f\"🎯 Final validation accuracy: {history['val_accuracies'][-1]:.4f}\")"
   ],
   "id": "5dd5bd5b3d7d848f",
   "outputs": [
    {
     "name": "stdout",
     "output_type": "stream",
     "text": [
      "🚀 Starting GRU Language Model Training...\n",
      "Model has 11,745,320 parameters\n",
      "Starting training for 2 epochs...\n",
      "Training batches: 27349\n",
      "Validation batches: 2869\n",
      "------------------------------------------------------------\n"
     ]
    },
    {
     "name": "stderr",
     "output_type": "stream",
     "text": [
      "Epoch 1 Training:   4%|▎         | 1000/27349 [19:22<6:10:54,  1.18it/s, Loss=7.4676, Acc=0.0740]"
     ]
    },
    {
     "name": "stdout",
     "output_type": "stream",
     "text": [
      "\n",
      "Batch 1000/27349:\n",
      "  Loss: 7.4676\n",
      "  Accuracy: 0.0740\n"
     ]
    },
    {
     "name": "stderr",
     "output_type": "stream",
     "text": [
      "Epoch 1 Training:   7%|▋         | 2000/27349 [32:42<5:14:59,  1.34it/s, Loss=7.4125, Acc=0.0750] "
     ]
    },
    {
     "name": "stdout",
     "output_type": "stream",
     "text": [
      "\n",
      "Batch 2000/27349:\n",
      "  Loss: 7.4125\n",
      "  Accuracy: 0.0750\n"
     ]
    },
    {
     "name": "stderr",
     "output_type": "stream",
     "text": [
      "Epoch 1 Training:  11%|█         | 3000/27349 [45:43<6:00:14,  1.13it/s, Loss=7.3735, Acc=0.0792]"
     ]
    },
    {
     "name": "stdout",
     "output_type": "stream",
     "text": [
      "\n",
      "Batch 3000/27349:\n",
      "  Loss: 7.3735\n",
      "  Accuracy: 0.0792\n"
     ]
    },
    {
     "name": "stderr",
     "output_type": "stream",
     "text": [
      "Epoch 1 Training:  15%|█▍        | 4000/27349 [59:45<5:47:43,  1.12it/s, Loss=7.3304, Acc=0.0830]"
     ]
    },
    {
     "name": "stdout",
     "output_type": "stream",
     "text": [
      "\n",
      "Batch 4000/27349:\n",
      "  Loss: 7.3304\n",
      "  Accuracy: 0.0830\n"
     ]
    },
    {
     "name": "stderr",
     "output_type": "stream",
     "text": [
      "Epoch 1 Training:  18%|█▊        | 5000/27349 [1:13:44<4:50:09,  1.28it/s, Loss=7.2983, Acc=0.0849]"
     ]
    },
    {
     "name": "stdout",
     "output_type": "stream",
     "text": [
      "\n",
      "Batch 5000/27349:\n",
      "  Loss: 7.2983\n",
      "  Accuracy: 0.0849\n"
     ]
    },
    {
     "name": "stderr",
     "output_type": "stream",
     "text": [
      "Epoch 1 Training:  22%|██▏       | 6000/27349 [1:28:20<5:13:53,  1.13it/s, Loss=7.2676, Acc=0.0869] "
     ]
    },
    {
     "name": "stdout",
     "output_type": "stream",
     "text": [
      "\n",
      "Batch 6000/27349:\n",
      "  Loss: 7.2676\n",
      "  Accuracy: 0.0869\n"
     ]
    },
    {
     "name": "stderr",
     "output_type": "stream",
     "text": [
      "Epoch 1 Training:  26%|██▌       | 7000/27349 [1:41:56<5:00:46,  1.13it/s, Loss=7.2400, Acc=0.0886]"
     ]
    },
    {
     "name": "stdout",
     "output_type": "stream",
     "text": [
      "\n",
      "Batch 7000/27349:\n",
      "  Loss: 7.2400\n",
      "  Accuracy: 0.0886\n"
     ]
    },
    {
     "name": "stderr",
     "output_type": "stream",
     "text": [
      "Epoch 1 Training:  29%|██▉       | 8000/27349 [1:56:01<4:45:19,  1.13it/s, Loss=7.2153, Acc=0.0904] "
     ]
    },
    {
     "name": "stdout",
     "output_type": "stream",
     "text": [
      "\n",
      "Batch 8000/27349:\n",
      "  Loss: 7.2153\n",
      "  Accuracy: 0.0904\n"
     ]
    },
    {
     "name": "stderr",
     "output_type": "stream",
     "text": [
      "Epoch 1 Training:  33%|███▎      | 9000/27349 [2:10:24<4:29:29,  1.13it/s, Loss=7.1936, Acc=0.0921]"
     ]
    },
    {
     "name": "stdout",
     "output_type": "stream",
     "text": [
      "\n",
      "Batch 9000/27349:\n",
      "  Loss: 7.1936\n",
      "  Accuracy: 0.0921\n"
     ]
    },
    {
     "name": "stderr",
     "output_type": "stream",
     "text": [
      "Epoch 1 Training:  37%|███▋      | 10000/27349 [2:24:17<4:13:22,  1.14it/s, Loss=7.1745, Acc=0.0934]"
     ]
    },
    {
     "name": "stdout",
     "output_type": "stream",
     "text": [
      "\n",
      "Batch 10000/27349:\n",
      "  Loss: 7.1745\n",
      "  Accuracy: 0.0934\n"
     ]
    },
    {
     "name": "stderr",
     "output_type": "stream",
     "text": [
      "Epoch 1 Training:  40%|████      | 11000/27349 [2:38:34<4:00:39,  1.13it/s, Loss=7.1538, Acc=0.0948]"
     ]
    },
    {
     "name": "stdout",
     "output_type": "stream",
     "text": [
      "\n",
      "Batch 11000/27349:\n",
      "  Loss: 7.1538\n",
      "  Accuracy: 0.0948\n"
     ]
    },
    {
     "name": "stderr",
     "output_type": "stream",
     "text": [
      "Epoch 1 Training:  44%|████▍     | 12000/27349 [2:52:54<3:48:28,  1.12it/s, Loss=7.1362, Acc=0.0962]"
     ]
    },
    {
     "name": "stdout",
     "output_type": "stream",
     "text": [
      "\n",
      "Batch 12000/27349:\n",
      "  Loss: 7.1362\n",
      "  Accuracy: 0.0962\n"
     ]
    },
    {
     "name": "stderr",
     "output_type": "stream",
     "text": [
      "Epoch 1 Training:  48%|████▊     | 13000/27349 [3:07:10<3:29:28,  1.14it/s, Loss=7.1209, Acc=0.0975]"
     ]
    },
    {
     "name": "stdout",
     "output_type": "stream",
     "text": [
      "\n",
      "Batch 13000/27349:\n",
      "  Loss: 7.1209\n",
      "  Accuracy: 0.0975\n"
     ]
    },
    {
     "name": "stderr",
     "output_type": "stream",
     "text": [
      "Epoch 1 Training:  51%|█████     | 14000/27349 [3:21:27<3:19:14,  1.12it/s, Loss=7.1061, Acc=0.0986]"
     ]
    },
    {
     "name": "stdout",
     "output_type": "stream",
     "text": [
      "\n",
      "Batch 14000/27349:\n",
      "  Loss: 7.1061\n",
      "  Accuracy: 0.0986\n"
     ]
    },
    {
     "name": "stderr",
     "output_type": "stream",
     "text": [
      "Epoch 1 Training:  55%|█████▍    | 15000/27349 [3:35:58<2:59:11,  1.15it/s, Loss=7.0912, Acc=0.0996]"
     ]
    },
    {
     "name": "stdout",
     "output_type": "stream",
     "text": [
      "\n",
      "Batch 15000/27349:\n",
      "  Loss: 7.0912\n",
      "  Accuracy: 0.0996\n"
     ]
    },
    {
     "name": "stderr",
     "output_type": "stream",
     "text": [
      "Epoch 1 Training:  59%|█████▊    | 16000/27349 [3:50:13<2:48:19,  1.12it/s, Loss=7.0772, Acc=0.1006]"
     ]
    },
    {
     "name": "stdout",
     "output_type": "stream",
     "text": [
      "\n",
      "Batch 16000/27349:\n",
      "  Loss: 7.0772\n",
      "  Accuracy: 0.1006\n"
     ]
    },
    {
     "name": "stderr",
     "output_type": "stream",
     "text": [
      "Epoch 1 Training:  62%|██████▏   | 17000/27349 [4:04:28<2:17:43,  1.25it/s, Loss=7.0635, Acc=0.1015]"
     ]
    },
    {
     "name": "stdout",
     "output_type": "stream",
     "text": [
      "\n",
      "Batch 17000/27349:\n",
      "  Loss: 7.0635\n",
      "  Accuracy: 0.1015\n"
     ]
    },
    {
     "name": "stderr",
     "output_type": "stream",
     "text": [
      "Epoch 1 Training:  66%|██████▌   | 18000/27349 [4:18:58<2:15:25,  1.15it/s, Loss=7.0504, Acc=0.1024]"
     ]
    },
    {
     "name": "stdout",
     "output_type": "stream",
     "text": [
      "\n",
      "Batch 18000/27349:\n",
      "  Loss: 7.0504\n",
      "  Accuracy: 0.1024\n"
     ]
    },
    {
     "name": "stderr",
     "output_type": "stream",
     "text": [
      "Epoch 1 Training:  69%|██████▉   | 19000/27349 [4:33:14<2:03:46,  1.12it/s, Loss=7.0385, Acc=0.1033]"
     ]
    },
    {
     "name": "stdout",
     "output_type": "stream",
     "text": [
      "\n",
      "Batch 19000/27349:\n",
      "  Loss: 7.0385\n",
      "  Accuracy: 0.1033\n"
     ]
    },
    {
     "name": "stderr",
     "output_type": "stream",
     "text": [
      "Epoch 1 Training:  73%|███████▎  | 20000/27349 [4:47:42<1:47:13,  1.14it/s, Loss=7.0267, Acc=0.1041]"
     ]
    },
    {
     "name": "stdout",
     "output_type": "stream",
     "text": [
      "\n",
      "Batch 20000/27349:\n",
      "  Loss: 7.0267\n",
      "  Accuracy: 0.1041\n"
     ]
    },
    {
     "name": "stderr",
     "output_type": "stream",
     "text": [
      "Epoch 1 Training:  77%|███████▋  | 21000/27349 [5:02:03<1:32:37,  1.14it/s, Loss=7.0154, Acc=0.1049]"
     ]
    },
    {
     "name": "stdout",
     "output_type": "stream",
     "text": [
      "\n",
      "Batch 21000/27349:\n",
      "  Loss: 7.0154\n",
      "  Accuracy: 0.1049\n"
     ]
    },
    {
     "name": "stderr",
     "output_type": "stream",
     "text": [
      "Epoch 1 Training:  80%|████████  | 22000/27349 [5:16:29<1:17:59,  1.14it/s, Loss=7.0031, Acc=0.1058]"
     ]
    },
    {
     "name": "stdout",
     "output_type": "stream",
     "text": [
      "\n",
      "Batch 22000/27349:\n",
      "  Loss: 7.0031\n",
      "  Accuracy: 0.1058\n"
     ]
    },
    {
     "name": "stderr",
     "output_type": "stream",
     "text": [
      "Epoch 1 Training:  84%|████████▍ | 23000/27349 [5:30:43<1:03:43,  1.14it/s, Loss=6.9913, Acc=0.1066]"
     ]
    },
    {
     "name": "stdout",
     "output_type": "stream",
     "text": [
      "\n",
      "Batch 23000/27349:\n",
      "  Loss: 6.9913\n",
      "  Accuracy: 0.1066\n"
     ]
    },
    {
     "name": "stderr",
     "output_type": "stream",
     "text": [
      "Epoch 1 Training:  88%|████████▊ | 24000/27349 [5:44:27<48:32,  1.15it/s, Loss=6.9811, Acc=0.1074]  "
     ]
    },
    {
     "name": "stdout",
     "output_type": "stream",
     "text": [
      "\n",
      "Batch 24000/27349:\n",
      "  Loss: 6.9811\n",
      "  Accuracy: 0.1074\n"
     ]
    },
    {
     "name": "stderr",
     "output_type": "stream",
     "text": [
      "Epoch 1 Training:  91%|█████████▏| 25000/27349 [5:58:08<34:21,  1.14it/s, Loss=6.9702, Acc=0.1081]"
     ]
    },
    {
     "name": "stdout",
     "output_type": "stream",
     "text": [
      "\n",
      "Batch 25000/27349:\n",
      "  Loss: 6.9702\n",
      "  Accuracy: 0.1081\n"
     ]
    },
    {
     "name": "stderr",
     "output_type": "stream",
     "text": [
      "Epoch 1 Training:  95%|█████████▌| 26000/27349 [6:12:24<19:48,  1.14it/s, Loss=6.9595, Acc=0.1089]"
     ]
    },
    {
     "name": "stdout",
     "output_type": "stream",
     "text": [
      "\n",
      "Batch 26000/27349:\n",
      "  Loss: 6.9595\n",
      "  Accuracy: 0.1089\n"
     ]
    },
    {
     "name": "stderr",
     "output_type": "stream",
     "text": [
      "Epoch 1 Training:  99%|█████████▊| 27000/27349 [6:25:48<04:55,  1.18it/s, Loss=6.9493, Acc=0.1097]"
     ]
    },
    {
     "name": "stdout",
     "output_type": "stream",
     "text": [
      "\n",
      "Batch 27000/27349:\n",
      "  Loss: 6.9493\n",
      "  Accuracy: 0.1097\n"
     ]
    },
    {
     "name": "stderr",
     "output_type": "stream",
     "text": [
      "Epoch 1 Training: 100%|██████████| 27349/27349 [6:30:38<00:00,  1.17it/s, Loss=6.9458, Acc=0.1100]\n",
      "Epoch 1 Validation: 100%|██████████| 2869/2869 [08:40<00:00,  5.51it/s, Val Loss=6.3737, Val Acc=0.1443]\n"
     ]
    },
    {
     "name": "stdout",
     "output_type": "stream",
     "text": [
      "✓ New best model saved! Val Loss: 6.3737\n",
      "\n",
      "Epoch 1/2 Summary:\n",
      "  Train Loss: 6.9458 | Train Acc: 0.1100\n",
      "  Val Loss: 6.3737 | Val Acc: 0.1443\n",
      "  Time: 23959.42s\n",
      "------------------------------------------------------------\n"
     ]
    },
    {
     "name": "stderr",
     "output_type": "stream",
     "text": [
      "Epoch 2 Training:   4%|▎         | 1000/27349 [12:36<5:23:04,  1.36it/s, Loss=6.5807, Acc=0.1330]"
     ]
    },
    {
     "name": "stdout",
     "output_type": "stream",
     "text": [
      "\n",
      "Batch 1000/27349:\n",
      "  Loss: 6.5807\n",
      "  Accuracy: 0.1330\n"
     ]
    },
    {
     "name": "stderr",
     "output_type": "stream",
     "text": [
      "Epoch 2 Training:   7%|▋         | 2000/27349 [25:09<5:13:51,  1.35it/s, Loss=6.5824, Acc=0.1333]"
     ]
    },
    {
     "name": "stdout",
     "output_type": "stream",
     "text": [
      "\n",
      "Batch 2000/27349:\n",
      "  Loss: 6.5824\n",
      "  Accuracy: 0.1333\n"
     ]
    },
    {
     "name": "stderr",
     "output_type": "stream",
     "text": [
      "Epoch 2 Training:  11%|█         | 3000/27349 [37:50<5:02:37,  1.34it/s, Loss=6.5817, Acc=0.1337]"
     ]
    },
    {
     "name": "stdout",
     "output_type": "stream",
     "text": [
      "\n",
      "Batch 3000/27349:\n",
      "  Loss: 6.5817\n",
      "  Accuracy: 0.1337\n"
     ]
    },
    {
     "name": "stderr",
     "output_type": "stream",
     "text": [
      "Epoch 2 Training:  15%|█▍        | 4000/27349 [50:39<4:48:27,  1.35it/s, Loss=6.5836, Acc=0.1338]"
     ]
    },
    {
     "name": "stdout",
     "output_type": "stream",
     "text": [
      "\n",
      "Batch 4000/27349:\n",
      "  Loss: 6.5836\n",
      "  Accuracy: 0.1338\n"
     ]
    },
    {
     "name": "stderr",
     "output_type": "stream",
     "text": [
      "Epoch 2 Training:  18%|█▊        | 5000/27349 [1:03:18<4:36:24,  1.35it/s, Loss=6.5817, Acc=0.1341]"
     ]
    },
    {
     "name": "stdout",
     "output_type": "stream",
     "text": [
      "\n",
      "Batch 5000/27349:\n",
      "  Loss: 6.5817\n",
      "  Accuracy: 0.1341\n"
     ]
    },
    {
     "name": "stderr",
     "output_type": "stream",
     "text": [
      "Epoch 2 Training:  22%|██▏       | 6000/27349 [1:16:04<4:37:17,  1.28it/s, Loss=6.5822, Acc=0.1339]"
     ]
    },
    {
     "name": "stdout",
     "output_type": "stream",
     "text": [
      "\n",
      "Batch 6000/27349:\n",
      "  Loss: 6.5822\n",
      "  Accuracy: 0.1339\n"
     ]
    },
    {
     "name": "stderr",
     "output_type": "stream",
     "text": [
      "Epoch 2 Training:  26%|██▌       | 7000/27349 [1:28:43<4:10:16,  1.36it/s, Loss=6.5761, Acc=0.1341]"
     ]
    },
    {
     "name": "stdout",
     "output_type": "stream",
     "text": [
      "\n",
      "Batch 7000/27349:\n",
      "  Loss: 6.5761\n",
      "  Accuracy: 0.1341\n"
     ]
    },
    {
     "name": "stderr",
     "output_type": "stream",
     "text": [
      "Epoch 2 Training:  29%|██▉       | 8000/27349 [1:41:17<4:00:15,  1.34it/s, Loss=6.5725, Acc=0.1344]"
     ]
    },
    {
     "name": "stdout",
     "output_type": "stream",
     "text": [
      "\n",
      "Batch 8000/27349:\n",
      "  Loss: 6.5725\n",
      "  Accuracy: 0.1344\n"
     ]
    },
    {
     "name": "stderr",
     "output_type": "stream",
     "text": [
      "Epoch 2 Training:  33%|███▎      | 9000/27349 [1:53:54<3:55:36,  1.30it/s, Loss=6.5681, Acc=0.1348]"
     ]
    },
    {
     "name": "stdout",
     "output_type": "stream",
     "text": [
      "\n",
      "Batch 9000/27349:\n",
      "  Loss: 6.5681\n",
      "  Accuracy: 0.1348\n"
     ]
    },
    {
     "name": "stderr",
     "output_type": "stream",
     "text": [
      "Epoch 2 Training:  37%|███▋      | 10000/27349 [2:06:30<3:39:20,  1.32it/s, Loss=6.5673, Acc=0.1353]"
     ]
    },
    {
     "name": "stdout",
     "output_type": "stream",
     "text": [
      "\n",
      "Batch 10000/27349:\n",
      "  Loss: 6.5673\n",
      "  Accuracy: 0.1353\n"
     ]
    },
    {
     "name": "stderr",
     "output_type": "stream",
     "text": [
      "Epoch 2 Training:  40%|████      | 11000/27349 [2:19:12<3:21:53,  1.35it/s, Loss=6.5636, Acc=0.1354]"
     ]
    },
    {
     "name": "stdout",
     "output_type": "stream",
     "text": [
      "\n",
      "Batch 11000/27349:\n",
      "  Loss: 6.5636\n",
      "  Accuracy: 0.1354\n"
     ]
    },
    {
     "name": "stderr",
     "output_type": "stream",
     "text": [
      "Epoch 2 Training:  44%|████▍     | 12000/27349 [2:32:06<3:14:04,  1.32it/s, Loss=6.5613, Acc=0.1358]"
     ]
    },
    {
     "name": "stdout",
     "output_type": "stream",
     "text": [
      "\n",
      "Batch 12000/27349:\n",
      "  Loss: 6.5613\n",
      "  Accuracy: 0.1358\n"
     ]
    },
    {
     "name": "stderr",
     "output_type": "stream",
     "text": [
      "Epoch 2 Training:  48%|████▊     | 13000/27349 [2:45:07<3:02:10,  1.31it/s, Loss=6.5568, Acc=0.1362] "
     ]
    },
    {
     "name": "stdout",
     "output_type": "stream",
     "text": [
      "\n",
      "Batch 13000/27349:\n",
      "  Loss: 6.5568\n",
      "  Accuracy: 0.1362\n"
     ]
    },
    {
     "name": "stderr",
     "output_type": "stream",
     "text": [
      "Epoch 2 Training:  51%|█████     | 14000/27349 [2:57:42<2:44:34,  1.35it/s, Loss=6.5518, Acc=0.1365]"
     ]
    },
    {
     "name": "stdout",
     "output_type": "stream",
     "text": [
      "\n",
      "Batch 14000/27349:\n",
      "  Loss: 6.5518\n",
      "  Accuracy: 0.1365\n"
     ]
    },
    {
     "name": "stderr",
     "output_type": "stream",
     "text": [
      "Epoch 2 Training:  55%|█████▍    | 15000/27349 [3:10:19<2:33:11,  1.34it/s, Loss=6.5486, Acc=0.1368]"
     ]
    },
    {
     "name": "stdout",
     "output_type": "stream",
     "text": [
      "\n",
      "Batch 15000/27349:\n",
      "  Loss: 6.5486\n",
      "  Accuracy: 0.1368\n"
     ]
    },
    {
     "name": "stderr",
     "output_type": "stream",
     "text": [
      "Epoch 2 Training:  59%|█████▊    | 16000/27349 [3:22:57<2:26:36,  1.29it/s, Loss=6.5460, Acc=0.1372]"
     ]
    },
    {
     "name": "stdout",
     "output_type": "stream",
     "text": [
      "\n",
      "Batch 16000/27349:\n",
      "  Loss: 6.5460\n",
      "  Accuracy: 0.1372\n"
     ]
    },
    {
     "name": "stderr",
     "output_type": "stream",
     "text": [
      "Epoch 2 Training:  62%|██████▏   | 17000/27349 [3:35:41<2:08:22,  1.34it/s, Loss=6.5427, Acc=0.1373]"
     ]
    },
    {
     "name": "stdout",
     "output_type": "stream",
     "text": [
      "\n",
      "Batch 17000/27349:\n",
      "  Loss: 6.5427\n",
      "  Accuracy: 0.1373\n"
     ]
    },
    {
     "name": "stderr",
     "output_type": "stream",
     "text": [
      "Epoch 2 Training:  66%|██████▌   | 18000/27349 [3:48:17<1:55:24,  1.35it/s, Loss=6.5399, Acc=0.1376]"
     ]
    },
    {
     "name": "stdout",
     "output_type": "stream",
     "text": [
      "\n",
      "Batch 18000/27349:\n",
      "  Loss: 6.5399\n",
      "  Accuracy: 0.1376\n"
     ]
    },
    {
     "name": "stderr",
     "output_type": "stream",
     "text": [
      "Epoch 2 Training:  69%|██████▉   | 19000/27349 [4:00:56<1:48:57,  1.28it/s, Loss=6.5369, Acc=0.1379]"
     ]
    },
    {
     "name": "stdout",
     "output_type": "stream",
     "text": [
      "\n",
      "Batch 19000/27349:\n",
      "  Loss: 6.5369\n",
      "  Accuracy: 0.1379\n"
     ]
    },
    {
     "name": "stderr",
     "output_type": "stream",
     "text": [
      "Epoch 2 Training:  73%|███████▎  | 20000/27349 [4:13:32<1:44:10,  1.18it/s, Loss=6.5344, Acc=0.1381]"
     ]
    },
    {
     "name": "stdout",
     "output_type": "stream",
     "text": [
      "\n",
      "Batch 20000/27349:\n",
      "  Loss: 6.5344\n",
      "  Accuracy: 0.1381\n"
     ]
    },
    {
     "name": "stderr",
     "output_type": "stream",
     "text": [
      "Epoch 2 Training:  77%|███████▋  | 21000/27349 [4:26:07<1:22:42,  1.28it/s, Loss=6.5316, Acc=0.1383]"
     ]
    },
    {
     "name": "stdout",
     "output_type": "stream",
     "text": [
      "\n",
      "Batch 21000/27349:\n",
      "  Loss: 6.5316\n",
      "  Accuracy: 0.1383\n"
     ]
    },
    {
     "name": "stderr",
     "output_type": "stream",
     "text": [
      "Epoch 2 Training:  80%|████████  | 22000/27349 [4:38:47<1:06:10,  1.35it/s, Loss=6.5290, Acc=0.1385]"
     ]
    },
    {
     "name": "stdout",
     "output_type": "stream",
     "text": [
      "\n",
      "Batch 22000/27349:\n",
      "  Loss: 6.5290\n",
      "  Accuracy: 0.1385\n"
     ]
    },
    {
     "name": "stderr",
     "output_type": "stream",
     "text": [
      "Epoch 2 Training:  84%|████████▍ | 23000/27349 [4:51:29<58:07,  1.25it/s, Loss=6.5245, Acc=0.1388]  "
     ]
    },
    {
     "name": "stdout",
     "output_type": "stream",
     "text": [
      "\n",
      "Batch 23000/27349:\n",
      "  Loss: 6.5245\n",
      "  Accuracy: 0.1388\n"
     ]
    },
    {
     "name": "stderr",
     "output_type": "stream",
     "text": [
      "Epoch 2 Training:  88%|████████▊ | 24000/27349 [5:04:13<41:22,  1.35it/s, Loss=6.5206, Acc=0.1391]  "
     ]
    },
    {
     "name": "stdout",
     "output_type": "stream",
     "text": [
      "\n",
      "Batch 24000/27349:\n",
      "  Loss: 6.5206\n",
      "  Accuracy: 0.1391\n"
     ]
    },
    {
     "name": "stderr",
     "output_type": "stream",
     "text": [
      "Epoch 2 Training:  91%|█████████▏| 25000/27349 [5:17:19<29:06,  1.35it/s, Loss=6.5180, Acc=0.1393]"
     ]
    },
    {
     "name": "stdout",
     "output_type": "stream",
     "text": [
      "\n",
      "Batch 25000/27349:\n",
      "  Loss: 6.5180\n",
      "  Accuracy: 0.1393\n"
     ]
    },
    {
     "name": "stderr",
     "output_type": "stream",
     "text": [
      "Epoch 2 Training:  95%|█████████▌| 26000/27349 [5:30:22<19:18,  1.16it/s, Loss=6.5157, Acc=0.1395]  "
     ]
    },
    {
     "name": "stdout",
     "output_type": "stream",
     "text": [
      "\n",
      "Batch 26000/27349:\n",
      "  Loss: 6.5157\n",
      "  Accuracy: 0.1395\n"
     ]
    },
    {
     "name": "stderr",
     "output_type": "stream",
     "text": [
      "Epoch 2 Training:  99%|█████████▊| 27000/27349 [5:43:25<04:28,  1.30it/s, Loss=6.5126, Acc=0.1396]"
     ]
    },
    {
     "name": "stdout",
     "output_type": "stream",
     "text": [
      "\n",
      "Batch 27000/27349:\n",
      "  Loss: 6.5126\n",
      "  Accuracy: 0.1396\n"
     ]
    },
    {
     "name": "stderr",
     "output_type": "stream",
     "text": [
      "Epoch 2 Training: 100%|██████████| 27349/27349 [5:47:54<00:00,  1.31it/s, Loss=6.5118, Acc=0.1397]\n",
      "Epoch 2 Validation: 100%|██████████| 2869/2869 [08:40<00:00,  5.52it/s, Val Loss=6.1720, Val Acc=0.1549]\n"
     ]
    },
    {
     "name": "stdout",
     "output_type": "stream",
     "text": [
      "✓ New best model saved! Val Loss: 6.1720\n",
      "\n",
      "Epoch 2/2 Summary:\n",
      "  Train Loss: 6.5118 | Train Acc: 0.1397\n",
      "  Val Loss: 6.1720 | Val Acc: 0.1549\n",
      "  Time: 21394.75s\n",
      "------------------------------------------------------------\n",
      "\n",
      "Training completed in 45354.17s\n",
      "Best validation loss: 6.1720\n",
      "Loaded best model weights\n"
     ]
    },
    {
     "data": {
      "text/plain": [
       "<Figure size 1500x500 with 2 Axes>"
      ],
      "image/png": "[encoded data removed]"
     },
     "metadata": {},
     "output_type": "display_data"
    },
    {
     "name": "stdout",
     "output_type": "stream",
     "text": [
      "\n",
      "✅ Training completed!\n",
      "📁 Model saved as 'gru_language_model.pth'\n",
      "🎯 Final validation accuracy: 0.1549\n"
     ]
    }
   ],
   "execution_count": 10
  }
 ],
 "metadata": {
  "kernelspec": {
   "display_name": "Python 3",
   "language": "python",
   "name": "python3"
  },
  "language_info": {
   "codemirror_mode": {
    "name": "ipython",
    "version": 2
   },
   "file_extension": ".py",
   "mimetype": "text/x-python",
   "name": "python",
   "nbconvert_exporter": "python",
   "pygments_lexer": "ipython2",
   "version": "2.7.6"
  }
 },
 "nbformat": 4,
 "nbformat_minor": 5
}
